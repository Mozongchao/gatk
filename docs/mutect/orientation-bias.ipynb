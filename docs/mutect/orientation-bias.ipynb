{
 "cells": [
  {
   "cell_type": "code",
   "execution_count": 2,
   "metadata": {
    "collapsed": true
   },
   "outputs": [],
   "source": [
    "%matplotlib inline\n",
    "\n",
    "import numpy\n",
    "import matplotlib.pyplot as plt\n",
    "import daft"
   ]
  },
  {
   "cell_type": "code",
   "execution_count": 7,
   "metadata": {},
   "outputs": [
    {
     "data": {
      "image/png": "[encoded data removed]",
      "text/plain": [
       "<matplotlib.figure.Figure at 0x109f6ae50>"
      ]
     },
     "metadata": {},
     "output_type": "display_data"
    }
   ],
   "source": [
    "xo = 2\n",
    "yo = 2\n",
    "xpos = 4\n",
    "ypos = 4\n",
    "nrow = 4\n",
    "ncol = 6\n",
    "pgm = daft.PGM((nrow,ncol), origin = (xo, yo))\n",
    "\n",
    "# add random variables\n",
    "pgm.add_node(daft.Node('context', 'context', xpos-0.5, ypos+3, fixed=True))\n",
    "pgm.add_node(daft.Node('allele', 'allele', xpos+0.5, ypos+3, fixed=True))\n",
    "pgm.add_node(daft.Node('z', 'z', xpos, ypos+2))\n",
    "pgm.add_node(daft.Node('m', 'm', xpos - 0.5, ypos+1, observed=True))\n",
    "pgm.add_node(daft.Node('x', 'x', xpos, ypos, observed=True))\n",
    "\n",
    "# add parameters\n",
    "pgm.add_node(daft.Node('pi', '$\\pi_{ca}$', xpos-1.3, ypos+2, fixed=True))\n",
    "pgm.add_node(daft.Node('p', '$p_z$', xpos-1.3, ypos+1, fixed=True))\n",
    "pgm.add_node(daft.Node('theta', \"$\\Theta_z$\", xpos-1.3, ypos, fixed=True)) # $\\theta doesn't$ work for some reason \n",
    "pgm.add_node(daft.Node('R', 'R', xpos+0.5, ypos+1, fixed=True))\n",
    "\n",
    "# add edges\n",
    "pgm.add_edge('context','z')\n",
    "pgm.add_edge('allele','z')\n",
    "pgm.add_edge('z','m')\n",
    "pgm.add_edge('m','x')\n",
    "pgm.add_edge('z', 'x')\n",
    "\n",
    "pgm.add_edge('pi', 'z')\n",
    "pgm.add_edge('p', 'm')\n",
    "pgm.add_edge('theta', 'x')\n",
    "pgm.add_edge('R', 'm')\n",
    "\n",
    "plate_width = 2\n",
    "plate_height = 5\n",
    "pgm.add_plate(daft.Plate((xpos-1, ypos-1, plate_width, plate_height), label='site n'))\n",
    "\n",
    "pgm.render()\n",
    "pgm.figure.savefig(\"pgm.png\")"
   ]
  }
 ],
 "metadata": {
  "kernelspec": {
   "display_name": "Python 2",
   "language": "python",
   "name": "python2"
  },
  "language_info": {
   "codemirror_mode": {
    "name": "ipython",
    "version": 2
   },
   "file_extension": ".py",
   "mimetype": "text/x-python",
   "name": "python",
   "nbconvert_exporter": "python",
   "pygments_lexer": "ipython2",
   "version": "2.7.11"
  }
 },
 "nbformat": 4,
 "nbformat_minor": 2
}
